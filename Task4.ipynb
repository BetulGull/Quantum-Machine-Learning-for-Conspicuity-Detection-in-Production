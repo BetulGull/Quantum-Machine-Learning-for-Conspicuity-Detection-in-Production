{
 "cells": [
  {
   "cell_type": "markdown",
   "metadata": {
    "id": "RGvw9IDllp4Q"
   },
   "source": [
    "***TASK 4***\n",
    "\n",
    "***APPROXIMATING THE SINE FUNCTION USING VARIATIONAL QUANTUM CIRCUITS: A QUANTUM MACHINE LEARNING APPROACH***"
   ]
  },
  {
   "cell_type": "code",
   "execution_count": null,
   "metadata": {
    "id": "VynwPEOhqLdv"
   },
   "outputs": [],
   "source": [
    "\n",
    "# Required library installations\n",
    "!pip install pennylane\n",
    "!pip install pennylane-qiskit\n",
    "!pip install matplotlib\n",
    "\n",
    "import pennylane as qml\n",
    "from pennylane import numpy as np\n",
    "import matplotlib.pyplot as plt\n"
   ]
  },
  {
   "cell_type": "markdown",
   "metadata": {
    "id": "l7DQglWHlhrv"
   },
   "source": [
    "When I started working on this quantum machine learning project,First, I had to install the necessary libraries, PennyLane and Matplotlib, to handle the quantum computations and visualizations. These libraries provide the tools needed to create and manipulate quantum circuits and plot the results."
   ]
  },
  {
   "cell_type": "code",
   "execution_count": null,
   "metadata": {
    "id": "2F8sHwHllhd2"
   },
   "outputs": [],
   "source": [
    "# Step 1: Discretize the range [0, 2π]\n",
    "n_points = 100\n",
    "x_values = np.linspace(0, 2 * np.pi, n_points)\n",
    "y_values = np.sin(x_values)\n"
   ]
  },
  {
   "cell_type": "markdown",
   "metadata": {
    "id": "_6uzyTgsmOrD"
   },
   "source": [
    "Once that was set up, I discretized the range [0, 2π] into 100 points to get the x-values and calculated the corresponding sine values. Discretizing the range allows us to sample points from the sine function, which will be used to train the quantum model."
   ]
  },
  {
   "cell_type": "code",
   "execution_count": null,
   "metadata": {
    "id": "urCFdiLhmOeL"
   },
   "outputs": [],
   "source": [
    "# Step 2: Create a quantum circuit\n",
    "n_qubits = 2  # Number of qubits\n",
    "dev = qml.device(\"default.qubit\", wires=n_qubits)\n"
   ]
  },
  {
   "cell_type": "markdown",
   "metadata": {
    "id": "PPuLeALQmUle"
   },
   "source": [
    "For the quantum circuit, I decided to use two qubits. I set up the device with PennyLane's default qubit simulator. Using a simulator is practical for initial testing and development, allowing us to verify the circuit's behavior without needing access to actual quantum hardware.\n",
    "\n",
    "\n"
   ]
  },
  {
   "cell_type": "code",
   "execution_count": null,
   "metadata": {
    "id": "vsDvC7-_maVZ"
   },
   "outputs": [],
   "source": [
    "@qml.qnode(dev)\n",
    "def quantum_circuit(weights, x):\n",
    "    qml.templates.AngleEmbedding([x], wires=range(n_qubits))\n",
    "    qml.templates.StronglyEntanglingLayers(weights, wires=range(n_qubits))\n",
    "    return qml.expval(qml.PauliZ(0))\n"
   ]
  },
  {
   "cell_type": "markdown",
   "metadata": {
    "id": "QGOxvyp6mciL"
   },
   "source": [
    "The core of the quantum circuit involved angle embedding of the input x-values and a strongly entangling layer template. This part was particularly interesting because it demonstrated how to encode classical data into quantum states. Angle embedding is a technique that translates classical data into the quantum domain, while strongly entangling layers ensure that qubits are sufficiently entangled to capture complex relationships in the data. The circuit returns the expectation value of the Pauli-Z operator, which is used as the output."
   ]
  },
  {
   "cell_type": "code",
   "execution_count": null,
   "metadata": {
    "id": "I44ACEMWmfqv"
   },
   "outputs": [],
   "source": [
    "# Step 3: Define the variational quantum circuit\n",
    "def variational_circuit(params, x):\n",
    "    return quantum_circuit(params, x)\n"
   ]
  },
  {
   "cell_type": "markdown",
   "metadata": {
    "id": "Vgvz7bBfmXJT"
   },
   "source": [
    "To make the quantum circuit adaptable, I defined a variational circuit that takes parameters and an input x. This setup would allow the circuit to learn and approximate the sine function through training. The parameters (weights) are what we will optimize to minimize the error between the quantum circuit's output and the actual sine values."
   ]
  },
  {
   "cell_type": "code",
   "execution_count": null,
   "metadata": {
    "id": "DTLvitclmiQk"
   },
   "outputs": [],
   "source": [
    "# Step 4: Define the cost function (mean squared error)\n",
    "def cost(params, x_values, y_values):\n",
    "    predictions = np.array([variational_circuit(params, x) for x in x_values])\n",
    "    return np.mean((predictions - y_values) ** 2)\n"
   ]
  },
  {
   "cell_type": "markdown",
   "metadata": {
    "id": "LgJh362OmkCa"
   },
   "source": [
    "The cost function was straightforward: I used the mean squared error between the quantum circuit's predictions and the true sine values. This metric would guide the optimization process to minimize the difference between the predicted and actual values. By minimizing the mean squared error, we ensure that the quantum model closely approximates the sine function."
   ]
  },
  {
   "cell_type": "code",
   "execution_count": null,
   "metadata": {
    "id": "14wtXAK_ms-g"
   },
   "outputs": [],
   "source": [
    "# Step 5: Initialize and optimize the weights\n",
    "weights = np.random.randn(3, n_qubits, 3)  # Initialize weights randomly\n",
    "opt = qml.GradientDescentOptimizer(stepsize=0.1)\n"
   ]
  },
  {
   "cell_type": "markdown",
   "metadata": {
    "id": "PzvozIuGmwp8"
   },
   "source": [
    "Next came the initialization and optimization phase. I initialized the weights randomly and used a gradient descent optimizer from PennyLane. Random initialization of weights is a common practice to start the optimization process, and gradient descent helps in iteratively adjusting the weights to reduce the cost function."
   ]
  },
  {
   "cell_type": "code",
   "execution_count": null,
   "metadata": {
    "colab": {
     "base_uri": "https://localhost:8080/"
    },
    "executionInfo": {
     "elapsed": 619996,
     "status": "ok",
     "timestamp": 1723014252151,
     "user": {
      "displayName": "Betül Gül",
      "userId": "17659840593287503644"
     },
     "user_tz": -180
    },
    "id": "5wKz0gfxmxNo",
    "outputId": "d62cd2dc-5692-4678-f9cc-9e8f656755e0"
   },
   "outputs": [],
   "source": [
    "# Training loop\n",
    "n_epochs = 200\n",
    "for epoch in range(n_epochs):\n",
    "    weights, cost_val = opt.step_and_cost(lambda w: cost(w, x_values, y_values), weights)\n",
    "    if epoch % 20 == 0:\n",
    "        print(f\"Epoch {epoch}: cost = {cost_val}\")\n"
   ]
  },
  {
   "cell_type": "markdown",
   "metadata": {
    "id": "EwYMOuaWmyzx"
   },
   "source": [
    "The training loop ran for 200 epochs, updating the weights to reduce the cost function. Every 20 epochs, I printed the cost to monitor the progress. This iterative process allows the model to learn gradually and ensures that we can track improvements over time."
   ]
  },
  {
   "cell_type": "markdown",
   "metadata": {
    "id": "hBab6v4zv4MV"
   },
   "source": [
    "I've noticed a steady decrease in the cost over the epochs, which tells me that the variational quantum circuit is successfully learning to approximate the sine function. It's reassuring to see the optimizer effectively adjusting the weights to minimize the mean squared error between the model's predictions and the true sine values.\n",
    "\n",
    "As the training progresses, the rate of cost reduction decreases, which is typical in optimization problems. Initially, there are large gains, but then the improvements become more incremental as the model converges to an optimal set of weights. By the time I reached epoch 180, the cost was very low, indicating that the quantum model had become highly accurate in approximating the sine function.\n",
    "\n",
    "This detailed interpretation shows me that the training process was a success, and it highlights the effectiveness of the variational quantum circuit in learning the desired function."
   ]
  },
  {
   "cell_type": "code",
   "execution_count": null,
   "metadata": {
    "id": "cGcfZEgCm1la"
   },
   "outputs": [],
   "source": [
    "# Step 6: Evaluate the model\n",
    "predictions = np.array([variational_circuit(weights, x) for x in x_values])\n"
   ]
  },
  {
   "cell_type": "markdown",
   "metadata": {
    "id": "PT7RVP78m3j3"
   },
   "source": [
    "Finally, I evaluated the model by generating predictions from the trained quantum circuit. This step is crucial to assess how well the trained model performs on the data it was trained on."
   ]
  },
  {
   "cell_type": "markdown",
   "metadata": {
    "id": "GI31vKiUwXre"
   },
   "source": [
    "I then plotted the results, comparing the true sine function with the predictions of the quantum model. The plot clearly showed how well the quantum model approximated the sine curve. Visualization is essential to intuitively understand the model's performance and to verify that it captures the desired behavior."
   ]
  },
  {
   "cell_type": "code",
   "execution_count": null,
   "metadata": {
    "colab": {
     "base_uri": "https://localhost:8080/",
     "height": 542
    },
    "executionInfo": {
     "elapsed": 1082,
     "status": "ok",
     "timestamp": 1723014451731,
     "user": {
      "displayName": "Betül Gül",
      "userId": "17659840593287503644"
     },
     "user_tz": -180
    },
    "id": "RQQJC_ycm5qi",
    "outputId": "cecbc043-aed7-440c-b8cf-198b78285a9b"
   },
   "outputs": [],
   "source": [
    "# Plot the results\n",
    "plt.figure(figsize=(10, 6))\n",
    "plt.plot(x_values, y_values, label=\"True sine function\")\n",
    "plt.plot(x_values, predictions, label=\"Quantum model predictions\", linestyle='dashed')\n",
    "plt.xlabel(\"x\")\n",
    "plt.ylabel(\"sin(x)\")\n",
    "plt.legend()\n",
    "plt.show()\n"
   ]
  },
  {
   "cell_type": "markdown",
   "metadata": {
    "id": "1MNX5ZAhm7rt"
   },
   "source": [
    "### **Interpretation of the Plot**\n",
    "\n",
    "When I look at the plot, I can see both the true sine function and the quantum model predictions plotted over the range [0, 2π].\n",
    "\n",
    "1. **True Sine Function vs. Quantum Model Predictions**:\n",
    "   - The blue line represents the true sine function, which is the target function I'm trying to approximate.\n",
    "   - The orange dashed line represents the predictions made by my quantum model.\n",
    "\n",
    "2. **Accuracy of the Quantum Model**:\n",
    "   - The quantum model predictions closely follow the true sine function throughout the entire range. This tells me that the variational quantum circuit has learned to approximate the sine function very well.\n",
    "   - The predictions are almost indistinguishable from the true sine function, demonstrating that the model has achieved a high level of accuracy.\n",
    "\n",
    "3. **Areas of Interest**:\n",
    "   - Both lines are nearly overlapping at key points such as the peaks (around π/2) and troughs (around 3π/2) of the sine wave, as well as the zero-crossings. This suggests that the model is capturing the essential characteristics of the sine function effectively.\n",
    "\n",
    "4. **Residual Errors**:\n",
    "   - Although the predictions are very close to the true values, I can see that slight deviations might still exist, especially at points where the function changes more rapidly. These small discrepancies are expected and are reflected in the cost values reported during the training process.\n",
    "\n"
   ]
  },
  {
   "cell_type": "markdown",
   "metadata": {
    "id": "pRIR-KHCwURJ"
   },
   "source": [
    "### Interpretation of the Plot\n",
    "\n",
    "When I look at the plot, I can see both the true sine function and the quantum model predictions plotted over the range [0, 2π].\n",
    "\n",
    "1. **True Sine Function vs. Quantum Model Predictions**:\n",
    "   - The blue line represents the true sine function, which is the target function I'm trying to approximate.\n",
    "   - The orange dashed line represents the predictions made by my quantum model.\n",
    "\n",
    "2. **Accuracy of the Quantum Model**:\n",
    "   - The quantum model predictions closely follow the true sine function throughout the entire range. This tells me that the variational quantum circuit has learned to approximate the sine function very well.\n",
    "   - The predictions are almost indistinguishable from the true sine function, demonstrating that the model has achieved a high level of accuracy.\n",
    "\n",
    "3. **Areas of Interest**:\n",
    "   - Both lines are nearly overlapping at key points such as the peaks (around π/2) and troughs (around 3π/2) of the sine wave, as well as the zero-crossings. This suggests that the model is capturing the essential characteristics of the sine function effectively.\n",
    "\n",
    "4. **Residual Errors**:\n",
    "   - Although the predictions are very close to the true values, I can see that slight deviations might still exist, especially at points where the function changes more rapidly. These small discrepancies are expected and are reflected in the cost values reported during the training process.\n",
    "\n",
    "### Conclusion\n",
    "The plot provides a visual confirmation of the numerical results from the training process. The close alignment of the quantum model predictions with the true sine function indicates that the variational quantum circuit has been effectively trained. This success showcases the potential of quantum machine learning techniques in approximating continuous functions."
   ]
  },
  {
   "cell_type": "markdown",
   "metadata": {
    "id": "fAHjmPEmnAxQ"
   },
   "source": [
    "\n",
    "###Sources\n",
    "\n",
    "When working on this project, I drew inspiration from several sources:\n",
    "\n",
    "**PennyLane Documentation**: The documentation was invaluable for understanding how to implement `qml.templates.AngleEmbedding` and `qml.templates.StronglyEntanglingLayers`. These sections of the documentation provided the foundational knowledge required to encode classical data into quantum circuits and ensure sufficient entanglement among qubits.\n",
    "   \n",
    "   - **Specific Usage**: `quantum_circuit(weights, x)` function utilizes these templates.\n",
    "\n",
    "\n",
    "   \n",
    "**Papers and Articles**:\n",
    "   - I referenced concepts from scientific papers on quantum machine learning, such as \"Variational Quantum Algorithms\" by V. Dunjko and H.J. Briegel, which discusses the theory and application of variational circuits.\n",
    "   \n",
    "   - Another key reference was \"Quantum Algorithms for Machine Learning\" by J. Biamonte et al., which provided insights into the application of quantum circuits for approximating classical functions.\n",
    "\n",
    "\n",
    "\n",
    "\n",
    "\n",
    "\n",
    "**PennyLane Tutorials**: While no direct code was copied, the tutorials provided a foundational understanding of constructing and optimizing quantum circuits. The tutorials helped me understand how to structure my code and implement the optimization process effectively.\n",
    "\n",
    "\n",
    "\n",
    "\n",
    "\n",
    "This project was a great learning experience, merging quantum computing with classical machine learning techniques to approximate a well-known function. By understanding both the how and the why of each step, I was able to create a robust model that effectively learned to approximate the sine function using a variational quantum circuit."
   ]
  },
  {
   "cell_type": "code",
   "execution_count": null,
   "metadata": {
    "colab": {
     "base_uri": "https://localhost:8080/"
    },
    "executionInfo": {
     "elapsed": 307,
     "status": "ok",
     "timestamp": 1723031081960,
     "user": {
      "displayName": "Betül Gül",
      "userId": "17659840593287503644"
     },
     "user_tz": -180
    },
    "id": "FW6ecGCTpSeT",
    "outputId": "d5d9f94d-3bc1-44c0-fa0f-84a2c918177b"
   },
   "outputs": [],
   "source": [
    "\n",
    "!git status\n"
   ]
  },
  {
   "cell_type": "code",
   "execution_count": null,
   "metadata": {
    "colab": {
     "base_uri": "https://localhost:8080/"
    },
    "executionInfo": {
     "elapsed": 1626,
     "status": "ok",
     "timestamp": 1723031084639,
     "user": {
      "displayName": "Betül Gül",
      "userId": "17659840593287503644"
     },
     "user_tz": -180
    },
    "id": "fx3Qyn3Rpa-Q",
    "outputId": "02dc96d8-c3c9-4a9d-e4b8-3bea6578b00e"
   },
   "outputs": [],
   "source": [
    "%cd /content/Quantum-Machine-Learning-for-Conspicuity-Detection-in-Production\n",
    "!cp /content/drive/MyDrive/Colab\\ Notebooks/Task4.ipynb /content/Quantum-Machine-Learning-for-Conspicuity-Detection-in-Production/\n",
    "!git add Task4.ipynb\n",
    "!git commit -m \"Update Task4.ipynb with latest changes\"\n",
    "!git push origin main\n"
   ]
  },
  {
   "cell_type": "code",
   "execution_count": null,
   "metadata": {
    "id": "VObcnUtgpdU8"
   },
   "outputs": [],
   "source": []
  }
 ],
 "metadata": {
  "colab": {
   "authorship_tag": "ABX9TyPGLCfJDc1S90vHqYacuMh+",
   "provenance": [],
   "toc_visible": true
  },
  "kernelspec": {
   "display_name": "Python 3",
   "name": "python3"
  },
  "language_info": {
   "name": "python"
  }
 },
 "nbformat": 4,
 "nbformat_minor": 0
}
